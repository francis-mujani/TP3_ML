{
  "nbformat": 4,
  "nbformat_minor": 0,
  "metadata": {
    "colab": {
      "private_outputs": true,
      "provenance": []
    },
    "kernelspec": {
      "name": "python3",
      "display_name": "Python 3"
    },
    "language_info": {
      "name": "python"
    },
    "accelerator": "GPU",
    "gpuClass": "standard"
  },
  "cells": [
    {
      "cell_type": "code",
      "execution_count": null,
      "metadata": {
        "id": "7T_y-YPPvbqi"
      },
      "outputs": [],
      "source": [
        "from tensorflow.keras.models import Sequential\n",
        "from tensorflow.keras.layers import Activation, Dense, Dropout, LSTM\n",
        "from tensorflow.keras import layers\n",
        "import matplotlib.pyplot as plt\n",
        "import numpy as np\n",
        "import pandas as pd\n",
        "from sklearn.metrics import mean_absolute_error"
      ]
    },
    {
      "cell_type": "code",
      "source": [
        "SPX = pd.read_fwf('/content/sample_data/SPX.txt' ,names=['Date', 'Close'], parse_dates=True)"
      ],
      "metadata": {
        "id": "za72Gc3Aw-dx"
      },
      "execution_count": null,
      "outputs": []
    },
    {
      "cell_type": "code",
      "source": [
        "SPX.head()"
      ],
      "metadata": {
        "id": "Qz0ZtSN6xB2V"
      },
      "execution_count": null,
      "outputs": []
    },
    {
      "cell_type": "code",
      "source": [
        "#SPX.Date = pd.to_datetime(SPX.Date, infer_datetime_format=True)"
      ],
      "metadata": {
        "id": "AyxRYUkx7v0j"
      },
      "execution_count": null,
      "outputs": []
    },
    {
      "cell_type": "code",
      "source": [
        "VIX = pd.read_fwf('/content/sample_data/VIX.txt' ,names=['Date', 'Close'], parse_dates=True)"
      ],
      "metadata": {
        "id": "6Ph3zeytwf4p"
      },
      "execution_count": null,
      "outputs": []
    },
    {
      "cell_type": "code",
      "source": [
        "VIX.head()"
      ],
      "metadata": {
        "id": "mQxtgPmyyCWO"
      },
      "execution_count": null,
      "outputs": []
    },
    {
      "cell_type": "code",
      "source": [
        "SPX.info()"
      ],
      "metadata": {
        "id": "LzplLK83vweT"
      },
      "execution_count": null,
      "outputs": []
    },
    {
      "cell_type": "code",
      "source": [
        "SPX.describe()"
      ],
      "metadata": {
        "id": "d1SDcZDTn_Ol"
      },
      "execution_count": null,
      "outputs": []
    },
    {
      "cell_type": "code",
      "source": [
        "SPX['Close'] = SPX['Close'].apply(lambda x: float(x.split()[0].replace(',', '.')))\n",
        "VIX['Close'] = VIX['Close'].apply(lambda x: float(x.split()[0].replace(',', '.')))"
      ],
      "metadata": {
        "id": "IoEnsVO_y22g"
      },
      "execution_count": null,
      "outputs": []
    },
    {
      "cell_type": "code",
      "source": [
        "# SPX = SPX.set_index('Date')\n",
        "# VIX = VIX.set_index('Date')"
      ],
      "metadata": {
        "id": "U1LWsdGB06CS"
      },
      "execution_count": null,
      "outputs": []
    },
    {
      "cell_type": "code",
      "source": [
        "#SPX.index = pd.to_datetime(SPX.index,unit='ns')\n",
        "#VIX.index = pd.to_datetime(VIX.index,unit='ns')\n",
        "print(SPX.index)\n",
        "print(VIX.index)"
      ],
      "metadata": {
        "id": "iGhFO8lG1UXg"
      },
      "execution_count": null,
      "outputs": []
    },
    {
      "cell_type": "code",
      "source": [
        "SPX.head()"
      ],
      "metadata": {
        "id": "K0EPJObBzKn7"
      },
      "execution_count": null,
      "outputs": []
    },
    {
      "cell_type": "code",
      "source": [
        "SPX.info()"
      ],
      "metadata": {
        "id": "7j3P1lnnzM_f"
      },
      "execution_count": null,
      "outputs": []
    },
    {
      "cell_type": "markdown",
      "source": [
        "## **EVOLUTION DES NOS DONNEES**"
      ],
      "metadata": {
        "id": "C9d_HEl8zmZz"
      }
    },
    {
      "cell_type": "code",
      "source": [
        "def Plotting_evolution(data):\n",
        "    data['Close'].plot(figsize=(18, 6))\n",
        "    plt.show()"
      ],
      "metadata": {
        "id": "Ih1_1J3rzuvn"
      },
      "execution_count": null,
      "outputs": []
    },
    {
      "cell_type": "code",
      "source": [
        "SPX_ = SPX.set_index('Date')\n",
        "VIX_ = VIX.set_index('Date')\n",
        "data = [SPX_, VIX_]\n",
        "Names =  ['SPX_Data', 'VIX_Data']\n",
        "\n",
        "for i in range(len(data)):\n",
        "    print('EVOLUTION DE {} DANS LE TEMPS'.format(Names[i]))\n",
        "    Plotting_evolution(data[i])"
      ],
      "metadata": {
        "id": "cDeuIIfh0Je2"
      },
      "execution_count": null,
      "outputs": []
    },
    {
      "cell_type": "code",
      "source": [
        "SPX_data = SPX.copy()\n",
        "SPX_data['Date'] = pd.to_datetime(SPX_data['Date'])\n",
        "SPX_data = SPX_data.set_index('Date')\n",
        "SPX_data.head()"
      ],
      "metadata": {
        "id": "OF5y2Khhtye_"
      },
      "execution_count": null,
      "outputs": []
    },
    {
      "cell_type": "code",
      "source": [
        "m = SPX_data['Close'].resample('W').agg(['mean', 'std', 'min', 'max'])\n",
        "\n",
        "plt.figure(figsize=(12, 8))\n",
        "m['mean']['2018'].plot(label='moyenne par semaine')\n",
        "plt.fill_between(m.index, m['max'], m['min'], alpha=0.2, label='min-max par semaine')\n",
        "\n",
        "plt.legend()\n",
        "plt.show()"
      ],
      "metadata": {
        "id": "yeu7qI5jV9Oj"
      },
      "execution_count": null,
      "outputs": []
    },
    {
      "cell_type": "code",
      "source": [
        "SPX_data[['Close']].plot(subplots=True, figsize=(12, 8))"
      ],
      "metadata": {
        "id": "C8-HQdlUsr2S"
      },
      "execution_count": null,
      "outputs": []
    },
    {
      "cell_type": "code",
      "source": [
        "#df = SPX.copy()\n",
        "#df.groupby('Date').resample('D').mean()"
      ],
      "metadata": {
        "id": "48FK6CaqV9RD"
      },
      "execution_count": null,
      "outputs": []
    },
    {
      "cell_type": "markdown",
      "source": [
        "## SPLIT DATA"
      ],
      "metadata": {
        "id": "b4eEet4PTPlM"
      }
    },
    {
      "cell_type": "code",
      "source": [
        "train_SPX = SPX.loc[0:1110,'Close']\n",
        "test_SPX = SPX.loc[1110:,'Close']\n",
        "\n",
        "def line_plot(line1, line2, label1=None, label2=None, title='', lw=2):\n",
        "    fig, ax = plt.subplots(1, figsize=(14, 9))\n",
        "    ax.plot(line1, label=label1, linewidth=lw)\n",
        "    ax.plot(line2, label=label2, linewidth=lw)\n",
        "    ax.set_ylabel('SPX/USDT', fontsize=14)\n",
        "    ax.set_title(title, fontsize=16)\n",
        "    ax.legend(loc='best', fontsize=16);"
      ],
      "metadata": {
        "id": "1RirHqzwV9Ua"
      },
      "execution_count": null,
      "outputs": []
    },
    {
      "cell_type": "code",
      "source": [
        "line_plot(train_SPX, test_SPX, 'training', 'test', title=\"DONNEE D'ENTRAINEMNT ET DE TEST\")"
      ],
      "metadata": {
        "id": "SYuai1yApe05"
      },
      "execution_count": null,
      "outputs": []
    },
    {
      "cell_type": "markdown",
      "source": [
        "---"
      ],
      "metadata": {
        "id": "ndtsxfHHzXc8"
      }
    },
    {
      "cell_type": "code",
      "source": [],
      "metadata": {
        "id": "vpALBKC-187J"
      },
      "execution_count": null,
      "outputs": []
    },
    {
      "cell_type": "markdown",
      "source": [
        "## ON VEUT PREDIRE LE COURS DES 7 PROCHAIN JOURS "
      ],
      "metadata": {
        "id": "4q9BeRsry-6C"
      }
    },
    {
      "cell_type": "code",
      "source": [
        "# train_SPX = SPX.loc[0:1292,'Close']\n",
        "# test_SPX = SPX.loc[1285:,'Close']\n",
        "# \n",
        "# def line_plot(line1, line2, label1=None, label2=None, title='', lw=2):\n",
        "#     fig, ax = plt.subplots(1, figsize=(14, 9))\n",
        "#     ax.plot(line1, label=label1, linewidth=lw)\n",
        "#     ax.plot(line2, label=label2, linewidth=lw)\n",
        "#     ax.set_ylabel('SPX/USDT', fontsize=14)\n",
        "#     ax.set_title(title, fontsize=16)\n",
        "#     ax.legend(loc='best', fontsize=16);\n",
        "#     \n",
        "# line_plot(train_SPX, test_SPX, 'training', 'test', title='')"
      ],
      "metadata": {
        "id": "sFs7ErBLzUew"
      },
      "execution_count": null,
      "outputs": []
    },
    {
      "cell_type": "markdown",
      "source": [
        "## TRAINING DATA"
      ],
      "metadata": {
        "id": "BD2AhNpl0H3l"
      }
    },
    {
      "cell_type": "code",
      "source": [
        "train_SPX.plot(figsize=(16,8))"
      ],
      "metadata": {
        "id": "J7blUyOaP2fm"
      },
      "execution_count": null,
      "outputs": []
    },
    {
      "cell_type": "markdown",
      "source": [
        "## TEST DATA"
      ],
      "metadata": {
        "id": "OpBd5_pJ0PCl"
      }
    },
    {
      "cell_type": "code",
      "source": [
        "test_SPX.plot(figsize=(16,8))"
      ],
      "metadata": {
        "id": "CMXoms6_x2q_"
      },
      "execution_count": null,
      "outputs": []
    },
    {
      "cell_type": "markdown",
      "source": [
        "# NORMALISATION DE DONNEES\n"
      ],
      "metadata": {
        "id": "YflXF0UHBkmd"
      }
    },
    {
      "cell_type": "code",
      "source": [
        "def normalise_zero_base(data):\n",
        "    return data / data.iloc[0] - 1\n",
        "\n",
        "def normalise_min_max(data):\n",
        "    return (data - data.min()) / (data.max() - data.min())"
      ],
      "metadata": {
        "id": "ZqhPZm662a1-"
      },
      "execution_count": null,
      "outputs": []
    },
    {
      "cell_type": "code",
      "source": [
        "def extract_window_data(data, window_len=5, zero_base=True):\n",
        "    window_data = []\n",
        "    for idx in range(len(data) - window_len):\n",
        "        tmp = data[idx: (idx + window_len)].copy()\n",
        "        if zero_base:\n",
        "            tmp = normalise_zero_base(tmp)\n",
        "        window_data.append(tmp.values)\n",
        "    return np.array(window_data)"
      ],
      "metadata": {
        "id": "QXGNUqxmB2sI"
      },
      "execution_count": null,
      "outputs": []
    },
    {
      "cell_type": "code",
      "source": [
        "def prepare_data(train_SPX, test_SPX,window_len=10, zero_base=True, test_size=0.2):\n",
        "    X_train = extract_window_data(train_SPX, window_len, zero_base)\n",
        "    X_test = extract_window_data(test_SPX, window_len, zero_base)\n",
        "    y_train = train_SPX[window_len:].values\n",
        "    y_test = test_SPX[window_len:].values\n",
        "    if zero_base:\n",
        "        y_train = y_train / train_SPX[:-window_len].values - 1\n",
        "        y_test = y_test / test_SPX[:-window_len].values - 1\n",
        "    X_train = np.reshape(X_train, (X_train.shape[0],X_train.shape[1],1))\n",
        "    X_test = np.reshape(X_test, (X_test.shape[0],X_test.shape[1],1))\n",
        "\n",
        "    return train_SPX, test_SPX, X_train, X_test, y_train, y_test"
      ],
      "metadata": {
        "id": "GefNxuYDCNAF"
      },
      "execution_count": null,
      "outputs": []
    },
    {
      "cell_type": "markdown",
      "source": [
        "# MODELISATION 1 LSTM"
      ],
      "metadata": {
        "id": "r5P3zYHbFC3k"
      }
    },
    {
      "cell_type": "markdown",
      "source": [
        "- Creation de modele lstm"
      ],
      "metadata": {
        "id": "y8D-beTyTsej"
      }
    },
    {
      "cell_type": "code",
      "source": [
        "def build_lstm_model(input_data, output_size, neurons, activ_func='linear',\n",
        "                     dropout=0.2, loss='mse', optimizer='adam'):\n",
        "    model = Sequential()\n",
        "    model.add(LSTM(neurons, input_shape=(input_data.shape[1], input_data.shape[2])))\n",
        "    model.add(Dropout(dropout))\n",
        "    model.add(Dense(units=output_size))\n",
        "    model.add(Activation(activ_func))\n",
        "\n",
        "    model.compile(loss=loss, optimizer=optimizer)\n",
        "    return model"
      ],
      "metadata": {
        "id": "u-qnA1nJFB0s"
      },
      "execution_count": null,
      "outputs": []
    },
    {
      "cell_type": "markdown",
      "source": [
        "- Les paramettres pour l'entrainement du model"
      ],
      "metadata": {
        "id": "HOLeMNKFT1Zg"
      }
    },
    {
      "cell_type": "code",
      "source": [
        "np.random.seed(245)\n",
        "window_len = 5\n",
        "test_size = 0.2\n",
        "zero_base = True\n",
        "lstm_neurons = 50\n",
        "epochs = 40\n",
        "batch_size = 32\n",
        "loss = 'mse'\n",
        "dropout = 0.24\n",
        "optimizer = 'adam'"
      ],
      "metadata": {
        "id": "VTYdmob3FOt1"
      },
      "execution_count": null,
      "outputs": []
    },
    {
      "cell_type": "markdown",
      "source": [
        "## SPLIT DATA"
      ],
      "metadata": {
        "id": "NjYAbGTtFZSJ"
      }
    },
    {
      "cell_type": "code",
      "source": [
        "train_data, test_data, X_train, X_test, y_train, y_test = prepare_data(\n",
        "data, window_len=window_len, zero_base=zero_base, test_size=test_size)"
      ],
      "metadata": {
        "id": "CszJ0TcFFX7q"
      },
      "execution_count": null,
      "outputs": []
    },
    {
      "cell_type": "code",
      "source": [
        "print('Len of X training data', X_train.shape)\n",
        "print('Len of Y training data',y_train.shape)\n",
        "print('------------------------------')\n",
        "print('Len of X test data',X_test.shape)\n",
        "print('Len of y test data',y_test.shape)"
      ],
      "metadata": {
        "id": "zTMg7Xm1Fptd"
      },
      "execution_count": null,
      "outputs": []
    },
    {
      "cell_type": "markdown",
      "source": [
        "## TRAINING MODELE 1 LSTM"
      ],
      "metadata": {
        "id": "Al30z33GG1oS"
      }
    },
    {
      "cell_type": "code",
      "source": [
        "model = build_lstm_model(\n",
        "    X_train, output_size=1, neurons=lstm_neurons, dropout=dropout, loss=loss,\n",
        "    optimizer=optimizer)\n",
        "modelfit = model.fit(\n",
        "    X_train, y_train, validation_data=(X_test, y_test), epochs=epochs, batch_size=batch_size, verbose=1, shuffle=True)\n",
        "     "
      ],
      "metadata": {
        "id": "s3qUGjcCGLnH"
      },
      "execution_count": null,
      "outputs": []
    },
    {
      "cell_type": "markdown",
      "source": [
        "## COURBE D'ENTRAINEMENT ET DE TEST"
      ],
      "metadata": {
        "id": "svR6ppoh18TC"
      }
    },
    {
      "cell_type": "code",
      "source": [
        "plt.plot(modelfit.history['loss'],'r',linewidth=2, label='Training loss')\n",
        "plt.plot(modelfit.history['val_loss'], 'g',linewidth=2, label='Validation loss')\n",
        "plt.title('LSTM Neural Networks - SPX Model')\n",
        "plt.xlabel('Epochs numbers')\n",
        "plt.ylabel('MSE numbers')\n",
        "plt.show()"
      ],
      "metadata": {
        "id": "AtJ_Asq6USlH"
      },
      "execution_count": null,
      "outputs": []
    },
    {
      "cell_type": "code",
      "source": [
        "targets = test_SPX[window_len:]\n",
        "preds = model.predict(X_test).squeeze()\n",
        "mean_absolute_error(preds, y_test)"
      ],
      "metadata": {
        "id": "MpoRoD8bLJms"
      },
      "execution_count": null,
      "outputs": []
    },
    {
      "cell_type": "code",
      "source": [
        "from sklearn.metrics import mean_squared_error\n",
        "SCORE_MSE=mean_squared_error(preds, y_test)\n",
        "SCORE_MSE"
      ],
      "metadata": {
        "id": "FN80ndQvLpPM"
      },
      "execution_count": null,
      "outputs": []
    },
    {
      "cell_type": "code",
      "source": [
        "from sklearn.metrics import r2_score\n",
        "r2_score1=r2_score(y_test, preds)\n",
        "r2_score1*100"
      ],
      "metadata": {
        "id": "NSMuZGIWLzZp"
      },
      "execution_count": null,
      "outputs": []
    },
    {
      "cell_type": "code",
      "source": [
        "preds = test_SPX.values[:-window_len] * (preds + 1)\n",
        "preds"
      ],
      "metadata": {
        "id": "kzUYJ3mUL2hf"
      },
      "execution_count": null,
      "outputs": []
    },
    {
      "cell_type": "code",
      "source": [
        "#preds.plot(figsize=(16,8))"
      ],
      "metadata": {
        "id": "EEc0zmMlQbui"
      },
      "execution_count": null,
      "outputs": []
    },
    {
      "cell_type": "code",
      "source": [
        "preds = pd.Series(index=targets.index, data=preds)\n",
        "preds"
      ],
      "metadata": {
        "id": "xEfLsw-DQLQy"
      },
      "execution_count": null,
      "outputs": []
    },
    {
      "cell_type": "markdown",
      "source": [
        "# PREDICTION DU MODEL 1 LSTM"
      ],
      "metadata": {
        "id": "iKsofeV14ITy"
      }
    },
    {
      "cell_type": "code",
      "source": [
        "preds = pd.Series(index=targets.index, data=preds)\n",
        "preds.plot(figsize=(10,8) , c='g')"
      ],
      "metadata": {
        "id": "gQcm84m8QVpr"
      },
      "execution_count": null,
      "outputs": []
    },
    {
      "cell_type": "markdown",
      "source": [
        "## VRAIE DONNE DU TEST"
      ],
      "metadata": {
        "id": "Bjk-_ntO4Ob4"
      }
    },
    {
      "cell_type": "code",
      "source": [
        "test_SPX.plot(figsize=(10,8), c='r')"
      ],
      "metadata": {
        "id": "z-XJ6hmwQwh7"
      },
      "execution_count": null,
      "outputs": []
    },
    {
      "cell_type": "markdown",
      "source": [
        "## COMPARAISON DES VRAIE DONNEE AVEC LES PREDICTIONS"
      ],
      "metadata": {
        "id": "vVSCutA14d-s"
      }
    },
    {
      "cell_type": "code",
      "source": [
        "line_plot(targets, preds, 'actual', 'prediction', lw=3)"
      ],
      "metadata": {
        "id": "a2BPm-_UQOz0"
      },
      "execution_count": null,
      "outputs": []
    },
    {
      "cell_type": "code",
      "source": [
        "line_plot(test_SPX, preds, 'actual', 'prediction', lw=3)"
      ],
      "metadata": {
        "id": "0tsyE5ZC4wgn"
      },
      "execution_count": null,
      "outputs": []
    },
    {
      "cell_type": "markdown",
      "source": [
        "## PREDICTION DU MODEL SUR LES DONNEES DE TEST"
      ],
      "metadata": {
        "id": "QG8cVkXo5dYF"
      }
    },
    {
      "cell_type": "code",
      "source": [
        "train_SPX = SPX.loc[0:1110,'Close']\n",
        "test_SPX = preds\n",
        "\n",
        "def line_plot(line1, line2,line3 ,label1=None, label2=None, label3=None,title='', lw=2):\n",
        "    fig, ax = plt.subplots(1, figsize=(14, 9))\n",
        "    ax.plot(line1, label=label1, linewidth=lw)\n",
        "    ax.plot(line2, label=label2, linewidth=lw, c='orange')\n",
        "    #ax.plot(line2, label=label2, linewidth=lw, c='o')\n",
        "    ax.plot(line3, label=label3, linewidth=lw, c='g')\n",
        "    ax.set_ylabel('SPX/USDT', fontsize=14)\n",
        "    ax.set_title(title, fontsize=16)\n",
        "    ax.legend(loc='best', fontsize=16);"
      ],
      "metadata": {
        "id": "I3yLHbZuMgas"
      },
      "execution_count": null,
      "outputs": []
    },
    {
      "cell_type": "code",
      "source": [
        "line_plot(train_SPX, targets,preds, 'training','test', 'Prediction du modele', title=\"DONNEE D'ENTRAINEMNT ET DE TEST\")"
      ],
      "metadata": {
        "id": "VDO2NDtqTGz3"
      },
      "execution_count": null,
      "outputs": []
    },
    {
      "cell_type": "code",
      "source": [],
      "metadata": {
        "id": "GsZZPe4H0HC_"
      },
      "execution_count": null,
      "outputs": []
    },
    {
      "cell_type": "code",
      "source": [],
      "metadata": {
        "id": "2lYIPDni0diM"
      },
      "execution_count": null,
      "outputs": []
    },
    {
      "cell_type": "markdown",
      "source": [
        "## MODEL 2 Recurrent Neural network AVEC KERAS"
      ],
      "metadata": {
        "id": "BWqYWivZ6DlM"
      }
    },
    {
      "cell_type": "code",
      "source": [
        "import numpy\n",
        "import matplotlib.pyplot as plt\n",
        "from pandas import read_csv\n",
        "import math\n",
        "from keras.models import Sequential\n",
        "from keras.layers import Dense\n",
        "from keras.layers import LSTM,GRU\n",
        "from sklearn.preprocessing import MinMaxScaler,RobustScaler,StandardScaler\n",
        "from sklearn.metrics import mean_squared_error\n",
        "from pandas import Series\n",
        "import keras\n",
        "from keras import optimizers\n",
        "from keras.layers import Activation, Dense,Dropout"
      ],
      "metadata": {
        "id": "dprminKA0dqD"
      },
      "execution_count": null,
      "outputs": []
    },
    {
      "cell_type": "code",
      "source": [
        "df = SPX.set_index('Date')\n",
        "data=df.copy()"
      ],
      "metadata": {
        "id": "1pICsXpb6V2c"
      },
      "execution_count": null,
      "outputs": []
    },
    {
      "cell_type": "code",
      "source": [
        "data.head()"
      ],
      "metadata": {
        "id": "xvjTvpg4YFLA"
      },
      "execution_count": null,
      "outputs": []
    },
    {
      "cell_type": "code",
      "source": [
        "def difference(dataset, interval=1):\n",
        "\tdiff = list()\n",
        "\tfor i in range(interval, len(dataset)):\n",
        "\t\tvalue = dataset[i] - dataset[i - interval]\n",
        "\t\tdiff.append(value)\n",
        "\treturn Series(diff)\n",
        "\n",
        "def create_dataset(dataset, look_back=1):\n",
        "    dataX, dataY = [], []\n",
        "    for i in range(len(dataset)-look_back-1):\n",
        "        #takes \n",
        "        a = dataset[i:(i+look_back), 0]\n",
        "        dataX.append(a)\n",
        "        dataY.append(dataset[i+look_back, 0])\n",
        "    return numpy.array(dataX), numpy.array(dataY)"
      ],
      "metadata": {
        "id": "cCtzdXK96WE9"
      },
      "execution_count": null,
      "outputs": []
    },
    {
      "cell_type": "code",
      "source": [
        "look_back=7\n",
        "numpy.random.seed(0)\n",
        "\n",
        "# load the dataset\n",
        "dataframe = data\n",
        "dataset = dataframe.values\n",
        "dataset = dataset.astype('float64').reshape(-1, 1)\n",
        "# normalize the dataset\n",
        "scaler = MinMaxScaler()\n",
        "#scaler=RobustScaler()\n",
        "dataset = scaler.fit_transform(dataset)\n",
        "# split into train and test sets\n",
        "train_size = int(len(dataset) * 0.67)\n",
        "test_size = len(dataset) - train_size\n",
        "train, test = dataset[0:train_size,:], dataset[train_size:len(dataset),:]\n",
        "# reshape into X=t and Y=t+1\n",
        "#look_back = 7\n",
        "trainX, trainY = create_dataset(train, look_back)\n",
        "testX, testY = create_dataset(test, look_back)\n",
        "\n",
        "# reshape input to be [samples, time steps, features]\n",
        "trainX = numpy.reshape(trainX, (trainX.shape[0], 1, trainX.shape[1]))\n",
        "testX = numpy.reshape(testX, (testX.shape[0], 1, testX.shape[1]))\n",
        "# create and fit the LSTM network\n"
      ],
      "metadata": {
        "id": "20Of9o_16lJf"
      },
      "execution_count": null,
      "outputs": []
    },
    {
      "cell_type": "markdown",
      "source": [
        "## CREATE MODEL"
      ],
      "metadata": {
        "id": "-PzfnlCy7FSV"
      }
    },
    {
      "cell_type": "code",
      "source": [
        "model = Sequential()\n",
        "\n",
        "model.add(LSTM(256, return_sequences=True,input_shape=(1, look_back)))\n",
        "model.add(LSTM(256, return_sequences=True,input_shape=(1, look_back)))\n",
        "#model.add(LSTM(256, return_sequences=True,input_shape=(1, look_back)))\n",
        "model.add(LSTM(256))\n",
        "model.add(Dense(1))"
      ],
      "metadata": {
        "id": "HjuAtKGR7EJf"
      },
      "execution_count": null,
      "outputs": []
    },
    {
      "cell_type": "code",
      "source": [
        "predictions"
      ],
      "metadata": {
        "id": "67HqTm_lYoHv"
      },
      "execution_count": null,
      "outputs": []
    },
    {
      "cell_type": "code",
      "source": [],
      "metadata": {
        "id": "0Iaa7qobYxHS"
      },
      "execution_count": null,
      "outputs": []
    },
    {
      "cell_type": "markdown",
      "source": [
        "## COMPILE MODEL"
      ],
      "metadata": {
        "id": "DA-Ol3pV7QGW"
      }
    },
    {
      "cell_type": "code",
      "source": [
        "#keras.optimizers.Adam(lr=0.01, beta_1=0.9, beta_2=0.999, epsilon=None, decay=0.0, amsgrad=False, clipnorm=1)\n",
        "\n",
        "model.compile(loss='mean_squared_error', optimizer='adam')\n",
        "model.fit(trainX, trainY, epochs=50, verbose=1,shuffle=False,batch_size=50)\n",
        "# make predictions\n",
        "trainPredict = model.predict(trainX)\n",
        "testPredict = model.predict(testX)\n",
        "# invert predictions\n",
        "trainPredict = scaler.inverse_transform(trainPredict)\n",
        "trainY = scaler.inverse_transform([trainY])\n",
        "testPredict = scaler.inverse_transform(testPredict)\n",
        "testY = scaler.inverse_transform([testY])\n",
        "# calculate root mean squared error\n",
        "trainScore = math.sqrt(mean_squared_error(trainY[0], trainPredict[:,0]))\n",
        "print('Train Score: %.2f RMSE' % (trainScore))\n",
        "testScore = math.sqrt(mean_squared_error(testY[0], testPredict[:,0]))\n",
        "print('Test Score: %.2f RMSE' % (testScore))\n",
        "predictions = numpy.empty_like(dataset)\n",
        "predictions[:, :] = numpy.nan\n",
        "predictions[look_back:len(trainPredict)+look_back, :] = trainPredict\n",
        "predictions[len(trainPredict)+(look_back*2)+1:len(dataset)-1, :] = testPredict\n",
        "#data=pd.DataFrame(numpy.concatenate((trainPredict[0:len(trainPredict)-look_back-1],testPredict[0:len(testPredict)-look_back-1])),columns=[\"predicted\"])\n",
        "#print('one',data.count())\n",
        "#print('two',dataframe.count())\n",
        "predictionsDF=pd.DataFrame(predictions,columns=[\"predicted\"],index=dataframe.index)\n",
        "ans=pd.concat([dataframe,predictionsDF],axis=1)\n",
        "print( ans,[look_back,trainScore,testScore])"
      ],
      "metadata": {
        "id": "1zQgziYM6Wfh"
      },
      "execution_count": null,
      "outputs": []
    },
    {
      "cell_type": "code",
      "source": [
        "line_plot(testX, testPredict, 'actual', 'prediction', lw=3)"
      ],
      "metadata": {
        "id": "ENzAAbn31G9t"
      },
      "execution_count": null,
      "outputs": []
    },
    {
      "cell_type": "code",
      "source": [
        "line_plot(SPX['Close'], predictions, 'actual', 'prediction', lw=3)"
      ],
      "metadata": {
        "id": "f0WKnIq32vli"
      },
      "execution_count": null,
      "outputs": []
    },
    {
      "cell_type": "code",
      "source": [
        "train_SPX = SPX.loc[0:1110,'Close']\n",
        "test_SPX = preds\n",
        "\n",
        "def line_plot(line1, line2 ,label1=None, label2=None,title='', lw=2):\n",
        "    fig, ax = plt.subplots(1, figsize=(14, 9))\n",
        "    ax.plot(line1, label=label1, linewidth=lw, c='r')\n",
        "    ax.plot(line2, label=label2, linewidth=lw, c='g')\n",
        "    ax.set_ylabel('SPX/USDT', fontsize=14)\n",
        "    ax.set_title(title, fontsize=16)\n",
        "    ax.legend(loc='best', fontsize=16);\n"
      ],
      "metadata": {
        "id": "c3HQtm_b3rcu"
      },
      "execution_count": null,
      "outputs": []
    },
    {
      "cell_type": "code",
      "source": [
        "line_plot(trainPredict, testPredict, 'training', 'Prediction du modele', title=\"DONNEE D'ENTRAINEMNT ET DE TEST\")"
      ],
      "metadata": {
        "id": "wMqtTZ-UZDr9"
      },
      "execution_count": null,
      "outputs": []
    },
    {
      "cell_type": "code",
      "source": [
        "testX_ = scaler.inverse_transform(testX)"
      ],
      "metadata": {
        "id": "y78fM0K6dsiS"
      },
      "execution_count": null,
      "outputs": []
    },
    {
      "cell_type": "code",
      "source": [
        "testX_ = testX\n",
        "testX_.shape"
      ],
      "metadata": {
        "id": "rNiiScbEc6o9"
      },
      "execution_count": null,
      "outputs": []
    },
    {
      "cell_type": "code",
      "source": [
        "testX_ = testX_.reshape(-1,)\n",
        "testX_.shape"
      ],
      "metadata": {
        "id": "wMBSIBYkdF_X"
      },
      "execution_count": null,
      "outputs": []
    },
    {
      "cell_type": "code",
      "source": [
        "testX_"
      ],
      "metadata": {
        "id": "1bIj4vRAdiJE"
      },
      "execution_count": null,
      "outputs": []
    },
    {
      "cell_type": "code",
      "source": [
        "testX_ = scaler.inverse_transform(testX_)"
      ],
      "metadata": {
        "id": "dBvLt4LYdgLx"
      },
      "execution_count": null,
      "outputs": []
    },
    {
      "cell_type": "code",
      "source": [
        "testX_"
      ],
      "metadata": {
        "id": "lxepufkidgPr"
      },
      "execution_count": null,
      "outputs": []
    },
    {
      "cell_type": "code",
      "source": [
        "line_plot(testX_, testPredict, 'training', 'Prediction du modele', title=\"DONNEE D'ENTRAINEMNT ET DE TEST\")\n"
      ],
      "metadata": {
        "id": "DCpQm_H1c6i8"
      },
      "execution_count": null,
      "outputs": []
    },
    {
      "cell_type": "code",
      "source": [],
      "metadata": {
        "id": "MdMdOxc9bCgm"
      },
      "execution_count": null,
      "outputs": []
    },
    {
      "cell_type": "code",
      "source": [
        "trainPredict = scaler.inverse_transform(trainPredict)\n",
        "trainY = scaler.inverse_transform([trainY])\n",
        "testPredict = scaler.inverse_transform(testPredict)\n",
        "testY = scaler.inverse_transform([testY])"
      ],
      "metadata": {
        "id": "8eOckuvVZATw"
      },
      "execution_count": null,
      "outputs": []
    },
    {
      "cell_type": "code",
      "source": [
        "trainPredict.plot(figsize=(10,8), c='r')"
      ],
      "metadata": {
        "id": "h3DQZmpDZAJ9"
      },
      "execution_count": null,
      "outputs": []
    }
  ]
}